{
 "cells": [
  {
   "cell_type": "code",
   "execution_count": 213,
   "metadata": {},
   "outputs": [],
   "source": [
    "from math import *\n",
    "from random import shuffle\n",
    "import numpy as np\n",
    "import matplotlib.pyplot as plt"
   ]
  },
  {
   "cell_type": "markdown",
   "metadata": {},
   "source": [
    "The class for all nodes in the graph. Note that every node contains a list of its neigbors. I wrote this class some time ago for another project. Not all atritubtes and fuctions of the node class are used in the notebook."
   ]
  },
  {
   "cell_type": "code",
   "execution_count": 4,
   "metadata": {},
   "outputs": [],
   "source": [
    "class node:\n",
    "\n",
    "    def __init__(self, x,y):\n",
    "\n",
    "        self.x = x\n",
    "        self.y = y\n",
    "        self.coordinates = (x,y)\n",
    "        self.list_of_neigbors = []\n",
    "        self.visited = False\n",
    "        self.dis_to_target = float('inf')\n",
    "        self.previous = []\n",
    "    \n",
    "    def add_neighbor(self, node):\n",
    "\n",
    "        self.list_of_neigbors.append((node, self.dis_to(node)))\n",
    "    \n",
    "    def dis_to(self, node):\n",
    "\n",
    "        return sqrt((node.x - self.x)**2 + (node.y - self.y)**2)\n",
    "    \n",
    "    def visit(self):\n",
    "        self.visited = True\n",
    "\n",
    "\n"
   ]
  },
  {
   "cell_type": "markdown",
   "metadata": {},
   "source": [
    "Inicialize the graph - conect all notes to each other."
   ]
  },
  {
   "cell_type": "code",
   "execution_count": 214,
   "metadata": {},
   "outputs": [],
   "source": [
    "graph = []\n",
    "nodes = [(0, 2),(2, 5),(5, 2),(6, 6),(8, 3)]\n",
    "\n",
    "#create all nodes\n",
    "for this_node in nodes:\n",
    "\n",
    "    graph.append(node(this_node[0],this_node[1]))\n",
    "\n",
    "#add neighbors to the node\n",
    "for i in range(len(graph)):\n",
    "\n",
    "    for neighbor in graph:\n",
    "\n",
    "            if graph[i].coordinates != neighbor.coordinates:\n",
    "\n",
    "                graph[i].add_neighbor(neighbor)"
   ]
  },
  {
   "cell_type": "markdown",
   "metadata": {},
   "source": [
    "I decided to implement the 2-OPT algorithm to finf the shortest path. There are many explenations of this algorithm to be found online, including their runningtime analyisis and the proof of correctness. https://www.youtube.com/watch?v=dYEWqrp-mho \n",
    "\n",
    "This is why I need an inicial path to start the  algorithm. This inicial path is constructed in the field below. Just some random path. Note, a 'path' in the following notebook is aleays goint to be a list which contains node-objects."
   ]
  },
  {
   "cell_type": "code",
   "execution_count": 419,
   "metadata": {},
   "outputs": [],
   "source": [
    "path = graph[1:].copy()\n",
    "shuffle(path)\n",
    "path.insert(0,graph[0])\n",
    "path.append(path[0])"
   ]
  },
  {
   "cell_type": "markdown",
   "metadata": {},
   "source": [
    "This fuction calculates the distance/length of one path."
   ]
  },
  {
   "cell_type": "code",
   "execution_count": 420,
   "metadata": {},
   "outputs": [],
   "source": [
    "def get_len_path(path):\n",
    "\n",
    "    length = 0\n",
    "\n",
    "    for i in range(1,len(path)):\n",
    "        length += path[i-1].dis_to(path[i])  \n",
    "\n",
    "    return length"
   ]
  },
  {
   "cell_type": "markdown",
   "metadata": {},
   "source": [
    "This fuction prints the path as requiered:"
   ]
  },
  {
   "cell_type": "code",
   "execution_count": 421,
   "metadata": {},
   "outputs": [],
   "source": [
    "def print_path(path):\n",
    "\n",
    "    path_string = str(path[0].coordinates)\n",
    "    path_length = 0\n",
    "\n",
    "    for i in range(1,len(path)):\n",
    "\n",
    "        path_length += path[i-1].dis_to(path[i])\n",
    "    \n",
    "        path_string += ' -> ' + str(path[i].coordinates) + '[' + str(path_length) + ']'\n",
    "    \n",
    "    path_string += ' = [' + str(path_length) + ']'\n",
    "    \n",
    "    return path_string"
   ]
  },
  {
   "cell_type": "markdown",
   "metadata": {},
   "source": [
    "This fuction builds a visual representation of some path"
   ]
  },
  {
   "cell_type": "code",
   "execution_count": 428,
   "metadata": {},
   "outputs": [],
   "source": [
    "def plot_path(path):\n",
    "\n",
    "    vectors = []\n",
    "    origins = [[],[]]\n",
    "\n",
    "    for i in range(len(path)-1):\n",
    "\n",
    "        vector = [path[i+1].x - path[i].x, path[i+1].y - path[i].y]\n",
    "        vectors.append(vector)\n",
    "    \n",
    "  \n",
    "        origins[0].append(path[i].x)\n",
    "        origins[1].append(path[i].y)\n",
    "\n",
    "    V = np.array(vectors)\n",
    "    origin = np.array(origins) # origin point\n",
    "\n",
    "    plt.quiver(*origin, V[:,0], V[:,1], angles='xy', scale_units='xy', scale=1, color = ['m','g','r','b','y'])\n",
    "    scatter(*origin, s=100 ,marker='o', c=['black'])\n",
    "    plt.xlim(-2, 9)\n",
    "    plt.ylim(0, 7)\n",
    "    plt.show()"
   ]
  },
  {
   "cell_type": "markdown",
   "metadata": {},
   "source": [
    "Let's first check our random path before we proceed:"
   ]
  },
  {
   "cell_type": "code",
   "execution_count": 429,
   "metadata": {},
   "outputs": [
    {
     "name": "stdout",
     "output_type": "stream",
     "text": [
      "(0, 2) -> (8, 3)[8.06225774829855] -> (5, 2)[11.224535408466929] -> (6, 6)[15.347641034084589] -> (2, 5)[19.47074665970225] -> (0, 2)[23.076297935166238] = [23.076297935166238]\n"
     ]
    },
    {
     "data": {
      "image/png": "[encoded data removed]",
      "text/plain": [
       "<Figure size 432x288 with 1 Axes>"
      ]
     },
     "metadata": {
      "needs_background": "light"
     },
     "output_type": "display_data"
    }
   ],
   "source": [
    "print(print_path(path))\n",
    "plot_path(path)"
   ]
  },
  {
   "cell_type": "markdown",
   "metadata": {},
   "source": [
    "The following fuction computes all 2-opt mutations for a given path and checks whether the new path-mutation leads to a lower distance of the current path. There are some different approaches of the 2-opt algorithm, which differ from each other in the way they select the new improved path. One approach is to compute all possible mutations of the path, calculate path length of all mutations and select the path with the lowest length of all mutations. I, however, implemented another approach in which I pick the first path mutation which already results in a shorter length and proceed the 2-opt algorithm on this path mutation. \n",
    "\n",
    "The following fuction is a recursive fuction:"
   ]
  },
  {
   "cell_type": "code",
   "execution_count": 326,
   "metadata": {},
   "outputs": [],
   "source": [
    "def two_opt(path):\n",
    "\n",
    "    current_path_len = get_len_path(path)\n",
    "\n",
    "    for i in range(len(path)-1):\n",
    "\n",
    "        current_mutation = path.copy()\n",
    "\n",
    "        current_mutation[i], current_mutation[i+1] = current_mutation[i+1], current_mutation[i]\n",
    "\n",
    "        if i == 0:\n",
    "            current_mutation[-1] = current_mutation[0]\n",
    "        else:\n",
    "            current_mutation[0] = current_mutation[-1]\n",
    "\n",
    "        mutation_len = get_len_path(current_mutation)\n",
    "        \n",
    "        if mutation_len < current_path_len:\n",
    "            \n",
    "            path = two_opt(current_mutation)\n",
    "    \n",
    "    return(path)"
   ]
  },
  {
   "cell_type": "markdown",
   "metadata": {},
   "source": [
    "This is the solution:"
   ]
  },
  {
   "cell_type": "code",
   "execution_count": 430,
   "metadata": {},
   "outputs": [
    {
     "name": "stdout",
     "output_type": "stream",
     "text": [
      "(0, 2) -> (5, 2)[5.0] -> (8, 3)[8.16227766016838] -> (6, 6)[11.76782893563237] -> (2, 5)[15.890934561250031] -> (0, 2)[19.49648583671402] = [19.49648583671402]\n"
     ]
    },
    {
     "data": {
      "image/png": "[encoded data removed]",
      "text/plain": [
       "<Figure size 432x288 with 1 Axes>"
      ]
     },
     "metadata": {
      "needs_background": "light"
     },
     "output_type": "display_data"
    }
   ],
   "source": [
    "print(print_path(two_opt(path)))\n",
    "plot_path(two_opt(path))"
   ]
  }
 ],
 "metadata": {
  "interpreter": {
   "hash": "aee8b7b246df8f9039afb4144a1f6fd8d2ca17a180786b69acc140d282b71a49"
  },
  "kernelspec": {
   "display_name": "Python 3.9.6 64-bit",
   "name": "python3"
  },
  "language_info": {
   "codemirror_mode": {
    "name": "ipython",
    "version": 3
   },
   "file_extension": ".py",
   "mimetype": "text/x-python",
   "name": "python",
   "nbconvert_exporter": "python",
   "pygments_lexer": "ipython3",
   "version": "3.9.6"
  },
  "orig_nbformat": 4
 },
 "nbformat": 4,
 "nbformat_minor": 2
}
